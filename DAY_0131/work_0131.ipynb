{
 "cells": [
  {
   "cell_type": "markdown",
   "metadata": {},
   "source": [
    "#### 딕셔너리 생성 및 정렬 프로그램 <hr>"
   ]
  },
  {
   "cell_type": "code",
   "execution_count": 12,
   "metadata": {},
   "outputs": [
    {
     "name": "stdout",
     "output_type": "stream",
     "text": [
      "[1] Beijing : China  Asia  21,540,000\n",
      "[2] Berlin : Germany  Europe  3,426,000\n",
      "[3] Tokyo : Japan  Asia  14,110,000\n",
      "[4] Mexico City : Mexico  America  21,200,000\n",
      "[5] Seoul : South Korea  Asia  9,655,000\n",
      "[6] London : United Kingdom  Europe  14,800,000\n"
     ]
    }
   ],
   "source": [
    "world = {'Seoul' : ['South Korea', 'Asia', '9,655,000'],\n",
    "        'Tokyo' : ['Japan', 'Asia', '14,110,000'],\n",
    "        'Beijing' : ['China', 'Asia', '21,540,000'],\n",
    "        'London' : ['United Kingdom', 'Europe', '14,800,000'],\n",
    "        'Berlin' : ['Germany', 'Europe', '3,426,000'],\n",
    "        'Mexico City' : ['Mexico', 'America', '21,200,000']}\n",
    "\n",
    "sort_list = sorted(world.values(), key = lambda s: s[0])\n",
    "\n",
    "i = 1\n",
    "for info in sorted(world.values(), key = lambda s: s[0]):\n",
    "    for key, value in world.items():\n",
    "        if value == info:\n",
    "            print(f'[{i}] {key} : {world[key][0]}  {world[key][1]}  {world[key][2]}')\n",
    "    i += 1"
   ]
  },
  {
   "cell_type": "code",
   "execution_count": 24,
   "metadata": {},
   "outputs": [
    {
     "data": {
      "text/plain": [
       "[['China', 'Asia', '21,540,000'],\n",
       " ['Mexico', 'America', '21,200,000'],\n",
       " ['United Kingdom', 'Europe', '14,800,000'],\n",
       " ['Japan', 'Asia', '14,110,000'],\n",
       " ['South Korea', 'Asia', '9,655,000'],\n",
       " ['Germany', 'Europe', '3,426,000']]"
      ]
     },
     "execution_count": 24,
     "metadata": {},
     "output_type": "execute_result"
    }
   ],
   "source": [
    "sorted(world.values(), key = lambda s : int(s[2].replace(',','')), reverse = True)"
   ]
  },
  {
   "cell_type": "code",
   "execution_count": 22,
   "metadata": {},
   "outputs": [
    {
     "data": {
      "text/plain": [
       "True"
      ]
     },
     "execution_count": 22,
     "metadata": {},
     "output_type": "execute_result"
    }
   ],
   "source": [
    "'20,000,000'<'9,655,000'"
   ]
  },
  {
   "cell_type": "code",
   "execution_count": 30,
   "metadata": {},
   "outputs": [],
   "source": [
    "def my_sort(dict, idx):\n",
    "   \n",
    "    if idx == '1':\n",
    "        i = 1\n",
    "        for key, value in world.items():\n",
    "            value2 = value.copy()\n",
    "            value2[2] = int(value[2].replace(',',''))\n",
    "            print(f'[{i}] {key} : {value2}')\n",
    "            i += 1\n",
    "    elif idx == '2':\n",
    "        i = 1\n",
    "        sort_list = sorted(world.values(), key = lambda s: s[0])\n",
    "        for info in sort_list:\n",
    "            for key, value in world.items():\n",
    "                if value == info:\n",
    "                    print(f'[{i}] {key} : {world[key][0]}  {world[key][1]}  {world[key][2]}')\n",
    "            i += 1\n",
    "    elif idx == '3':\n",
    "        i = 1\n",
    "        sort_list = sorted(world.values(), key = lambda s : int(s[2].replace(',','')), reverse = True)\n",
    "        for info in sort_list:\n",
    "            for key, value in world.items():\n",
    "                if value == info:\n",
    "                   print(f'[{i}] {key} : {world[key][2]}')\n",
    "            i += 1\n",
    "    elif idx == '4':\n",
    "        city = input('출력할 도시 이름을 입력하세요 : ')\n",
    "        if city not in world.keys():\n",
    "            print(f'도시이름 : {city}는 key에 없습니다.')\n",
    "        else:         \n",
    "            print(f'국가 : {world[city][0]}, 대륙 : {world[city][1]}, 인구수 : {world[city][2]}')\n",
    "    elif idx == '5':\n",
    "        conti_name = input('대륙 이름을 입력하세요(Asia, Europe, America) : ')\n",
    "        sum = 0\n",
    "        for i in range(6):\n",
    "            if conti_name in list(world.values())[i]:\n",
    "                print(f'{list(world.keys())[i]} : {list(world.values())[i][2]}')\n",
    "                sum += int(list(world.values())[i][2].replace(',',''))\n",
    "        print(f'{conti_name} 전체 인구수 : {sum:,}')\n",
    "    else:\n",
    "        print('잘못된 입력입니다. 다시 입력해주세요.')\n",
    "    "
   ]
  },
  {
   "cell_type": "code",
   "execution_count": 31,
   "metadata": {},
   "outputs": [
    {
     "name": "stdout",
     "output_type": "stream",
     "text": [
      "--------------------------------------------------\n",
      "1. 전체 데이터 출력\n",
      "2. 수도 이름 오름차순 출력\n",
      "3. 모든 도시의 인구수 내림차순 출력\n",
      "4. 특정 도시의 정보 출력\n",
      "5. 대륙별 인구수 계산 및 출력\n",
      "6. 프로그램 종료\n",
      "--------------------------------------------------\n",
      "잘못된 입력입니다. 다시 입력해주세요.\n",
      "--------------------------------------------------\n",
      "1. 전체 데이터 출력\n",
      "2. 수도 이름 오름차순 출력\n",
      "3. 모든 도시의 인구수 내림차순 출력\n",
      "4. 특정 도시의 정보 출력\n",
      "5. 대륙별 인구수 계산 및 출력\n",
      "6. 프로그램 종료\n",
      "--------------------------------------------------\n",
      "[1] Beijing : China  Asia  21,540,000\n",
      "[2] Berlin : Germany  Europe  3,426,000\n",
      "[3] Tokyo : Japan  Asia  14,110,000\n",
      "[4] Mexico City : Mexico  America  21,200,000\n",
      "[5] Seoul : South Korea  Asia  9,655,000\n",
      "[6] London : United Kingdom  Europe  14,800,000\n",
      "--------------------------------------------------\n",
      "1. 전체 데이터 출력\n",
      "2. 수도 이름 오름차순 출력\n",
      "3. 모든 도시의 인구수 내림차순 출력\n",
      "4. 특정 도시의 정보 출력\n",
      "5. 대륙별 인구수 계산 및 출력\n",
      "6. 프로그램 종료\n",
      "--------------------------------------------------\n",
      "[1] Beijing : 21,540,000\n",
      "[2] Mexico City : 21,200,000\n",
      "[3] London : 14,800,000\n",
      "[4] Tokyo : 14,110,000\n",
      "[5] Seoul : 9,655,000\n",
      "[6] Berlin : 3,426,000\n",
      "--------------------------------------------------\n",
      "1. 전체 데이터 출력\n",
      "2. 수도 이름 오름차순 출력\n",
      "3. 모든 도시의 인구수 내림차순 출력\n",
      "4. 특정 도시의 정보 출력\n",
      "5. 대륙별 인구수 계산 및 출력\n",
      "6. 프로그램 종료\n",
      "--------------------------------------------------\n",
      "프로그램을 종료합니다.\n"
     ]
    }
   ],
   "source": [
    "world = {'Seoul' : ['South Korea', 'Asia', '9,655,000'],\n",
    "        'Tokyo' : ['Japan', 'Asia', '14,110,000'],\n",
    "        'Beijing' : ['China', 'Asia', '21,540,000'],\n",
    "        'London' : ['United Kingdom', 'Europe', '14,800,000'],\n",
    "        'Berlin' : ['Germany', 'Europe', '3,426,000'],\n",
    "        'Mexico City' : ['Mexico', 'America', '21,200,000']}\n",
    "\n",
    "while True:\n",
    "\n",
    "    print('-' * 50)\n",
    "    print('1. 전체 데이터 출력')\n",
    "    print('2. 수도 이름 오름차순 출력')\n",
    "    print('3. 모든 도시의 인구수 내림차순 출력')\n",
    "    print('4. 특정 도시의 정보 출력')\n",
    "    print('5. 대륙별 인구수 계산 및 출력')\n",
    "    print('6. 프로그램 종료')\n",
    "    print('-' * 50)\n",
    "    idx = input('메뉴를 입력하세요 : ')\n",
    "    \n",
    "    if idx == '6':\n",
    "        print('프로그램을 종료합니다.')\n",
    "        break\n",
    "    else:\n",
    "        my_sort(world, idx)"
   ]
  },
  {
   "cell_type": "code",
   "execution_count": 3,
   "metadata": {},
   "outputs": [
    {
     "data": {
      "text/plain": [
       "[1, 2, 3, 4]"
      ]
     },
     "execution_count": 3,
     "metadata": {},
     "output_type": "execute_result"
    }
   ],
   "source": [
    "a = [1, 2, 3]\n",
    "b = a.copy()\n",
    "b.append(4)\n",
    "b"
   ]
  },
  {
   "cell_type": "code",
   "execution_count": 4,
   "metadata": {},
   "outputs": [
    {
     "data": {
      "text/plain": [
       "[1, 2, 3]"
      ]
     },
     "execution_count": 4,
     "metadata": {},
     "output_type": "execute_result"
    }
   ],
   "source": [
    "a"
   ]
  },
  {
   "cell_type": "code",
   "execution_count": null,
   "metadata": {},
   "outputs": [],
   "source": []
  }
 ],
 "metadata": {
  "kernelspec": {
   "display_name": "TEST",
   "language": "python",
   "name": "python3"
  },
  "language_info": {
   "codemirror_mode": {
    "name": "ipython",
    "version": 3
   },
   "file_extension": ".py",
   "mimetype": "text/x-python",
   "name": "python",
   "nbconvert_exporter": "python",
   "pygments_lexer": "ipython3",
   "version": "3.9.18"
  }
 },
 "nbformat": 4,
 "nbformat_minor": 2
}
