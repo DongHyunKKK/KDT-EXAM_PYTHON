{
 "cells": [
  {
   "cell_type": "markdown",
   "metadata": {},
   "source": [
    "#### 예외 처리 <hr>"
   ]
  },
  {
   "cell_type": "markdown",
   "metadata": {},
   "source": [
    "- 예외(Exception) : 오동작이나 결과에 악영향을 미칠 수 있는 실행 중 발생한 오류\n",
    "- 예외의 종류\n",
    "    - 잘못된 데이터 입력\n",
    "    - 존재하지 않는 파일 열기\n",
    "    - 정수를 0으로 나누는 경우\n",
    "    - 리스트보다 큰 인덱스로 리스트의 원소를 접근하는 경우"
   ]
  },
  {
   "cell_type": "code",
   "execution_count": 13,
   "metadata": {},
   "outputs": [
    {
     "ename": "ZeroDivisionError",
     "evalue": "division by zero",
     "output_type": "error",
     "traceback": [
      "\u001b[1;31m---------------------------------------------------------------------------\u001b[0m",
      "\u001b[1;31mZeroDivisionError\u001b[0m                         Traceback (most recent call last)",
      "Cell \u001b[1;32mIn[13], line 2\u001b[0m\n\u001b[0;32m      1\u001b[0m x , y \u001b[38;5;241m=\u001b[39m \u001b[38;5;241m2\u001b[39m, \u001b[38;5;241m0\u001b[39m\n\u001b[1;32m----> 2\u001b[0m z \u001b[38;5;241m=\u001b[39m \u001b[43mx\u001b[49m\u001b[43m \u001b[49m\u001b[38;5;241;43m/\u001b[39;49m\u001b[43m \u001b[49m\u001b[43my\u001b[49m\n",
      "\u001b[1;31mZeroDivisionError\u001b[0m: division by zero"
     ]
    }
   ],
   "source": [
    "x , y = 2, 0\n",
    "z = x / y"
   ]
  },
  {
   "cell_type": "markdown",
   "metadata": {},
   "source": [
    "- 예외 처리\n",
    "    - 오류가 발생 했을 때 오류를 사용자에게 알려줌\n",
    "    - 모든 데이터를 저장하게 한 후에 사용자가 프로그램을 종료할 수 있도록 하는 것\n",
    "- 예외 종류\n",
    "    - IOError : 파일을 열 수 없을 때 발생\n",
    "    - ImportError : 파이썬이 모듈을 찾을 수 없을 때 발생\n",
    "    - ValueError : 연산이나 내장함수에서 인수가 적절하지 않은 값을 가질 때 발생\n",
    "    - KeyboardInterrupt : 사용자가 인터럽트 키를 누를 때 발생\n",
    "    - EOFError : 내장 함수가 파일의 끝을 만나면 발생"
   ]
  },
  {
   "cell_type": "markdown",
   "metadata": {},
   "source": [
    "- try ~ catch 구조\n",
    "    - try 블록 : 예외가 발생할 가능성이 있는 문장을 추가\n",
    "    - except 블록\n",
    "        - 자신이 처리할 수 있는 예외의 종류 지정\n",
    "        - 예외를 처리하기 위한 코드 추가"
   ]
  },
  {
   "cell_type": "code",
   "execution_count": 4,
   "metadata": {},
   "outputs": [
    {
     "name": "stdout",
     "output_type": "stream",
     "text": [
      "0으로 나누는 예외\n"
     ]
    }
   ],
   "source": [
    "(x, y) = (2, 0)\n",
    "try:\n",
    "    z = x/y\n",
    "except ZeroDivisionError:\n",
    "    print('0으로 나누는 예외')"
   ]
  },
  {
   "cell_type": "code",
   "execution_count": 6,
   "metadata": {},
   "outputs": [
    {
     "name": "stdout",
     "output_type": "stream",
     "text": [
      "division by zero\n"
     ]
    }
   ],
   "source": [
    "(x, y) = (2, 0)\n",
    "try:\n",
    "    z = x/y\n",
    "except ZeroDivisionError as e:\n",
    "    print(e)"
   ]
  },
  {
   "cell_type": "code",
   "execution_count": 9,
   "metadata": {},
   "outputs": [
    {
     "name": "stdout",
     "output_type": "stream",
     "text": [
      "정수가 아닙니다:  invalid literal for int() with base 10: 'ㅇㅇ'\n",
      "정수가 아닙니다:  invalid literal for int() with base 10: 'ㅇㅇ'\n",
      "정수 입력 성공\n"
     ]
    }
   ],
   "source": [
    "while True:\n",
    "    try:\n",
    "        n = input('숫자를 입력하시오 : ')\n",
    "        n = int(n)\n",
    "        break\n",
    "    except Exception as e:\n",
    "        print('정수가 아닙니다: ', e)\n",
    "\n",
    "print('정수 입력 성공')"
   ]
  },
  {
   "cell_type": "markdown",
   "metadata": {},
   "source": [
    "- 다중 예외 처리 구조"
   ]
  },
  {
   "cell_type": "code",
   "execution_count": 12,
   "metadata": {},
   "outputs": [
    {
     "name": "stdout",
     "output_type": "stream",
     "text": [
      "--------------------------------------------------\n",
      "인덱스 에러:  list index out of range\n",
      "sum = None\n",
      "--------------------------------------------------\n",
      "에러 없음:  [1, 2, 3]\n",
      "sum = 6\n"
     ]
    }
   ],
   "source": [
    "def calc(values):\n",
    "    sum = None\n",
    "    sum = values[0] + values[1] + values[2]\n",
    "    print(f\"sum = {sum}\")\n",
    "\n",
    "def calc2(values):\n",
    "    sum = None\n",
    "    try:\n",
    "        sum = values[0] + values[1] + values[2]\n",
    "    except IndexError as err:\n",
    "        print('인덱스 에러: ', err)\n",
    "    except Exception as err:\n",
    "        print(err)\n",
    "    else:\n",
    "        print('에러 없음: ', values)\n",
    "    finally:\n",
    "        print(f\"sum = {sum}\")\n",
    "\n",
    "\n",
    "#calc([1,2])\n",
    "print('-' * 50)\n",
    "calc2([1, 2])\n",
    "print('-' * 50)\n",
    "calc2([1, 2, 3])"
   ]
  }
 ],
 "metadata": {
  "kernelspec": {
   "display_name": "TEST",
   "language": "python",
   "name": "python3"
  },
  "language_info": {
   "codemirror_mode": {
    "name": "ipython",
    "version": 3
   },
   "file_extension": ".py",
   "mimetype": "text/x-python",
   "name": "python",
   "nbconvert_exporter": "python",
   "pygments_lexer": "ipython3",
   "version": "3.9.18"
  }
 },
 "nbformat": 4,
 "nbformat_minor": 2
}
