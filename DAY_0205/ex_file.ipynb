{
 "cells": [
  {
   "cell_type": "markdown",
   "metadata": {},
   "source": [
    "#### 이미지 파일 복사하기 <hr>"
   ]
  },
  {
   "cell_type": "markdown",
   "metadata": {},
   "source": [
    "- 하나의 이미지 파일을 다른 이미지 파일로 복사"
   ]
  },
  {
   "cell_type": "code",
   "execution_count": 2,
   "metadata": {},
   "outputs": [
    {
     "name": "stdout",
     "output_type": "stream",
     "text": [
      "1024\n",
      "1024\n",
      "1024\n",
      "1024\n",
      "1024\n",
      "1024\n",
      "1024\n",
      "1024\n",
      "1024\n",
      "1024\n",
      "1024\n",
      "1024\n",
      "1024\n",
      "1024\n",
      "1024\n",
      "1024\n",
      "1024\n",
      "1024\n",
      "1024\n",
      "1024\n",
      "1024\n",
      "1024\n",
      "1024\n",
      "1024\n",
      "1024\n",
      "1024\n",
      "1024\n",
      "1024\n",
      "1024\n",
      "1024\n",
      "1024\n",
      "1024\n",
      "1024\n",
      "1024\n",
      "1024\n",
      "1024\n",
      "1024\n",
      "1024\n",
      "1024\n",
      "1024\n",
      "1024\n",
      "1024\n",
      "1024\n",
      "1024\n",
      "1024\n",
      "1024\n",
      "1024\n",
      "1024\n",
      "1024\n",
      "1024\n",
      "1024\n",
      "1024\n",
      "1024\n",
      "1024\n",
      "1024\n",
      "1024\n",
      "1024\n",
      "1024\n",
      "1024\n",
      "1024\n",
      "1024\n",
      "1024\n",
      "1024\n",
      "1024\n",
      "1024\n",
      "1024\n",
      "1024\n",
      "1024\n",
      "1024\n",
      "1024\n",
      "1024\n",
      "1024\n",
      "1024\n",
      "1024\n",
      "1024\n",
      "1024\n",
      "1024\n",
      "1024\n",
      "1024\n",
      "1024\n",
      "1024\n",
      "1024\n",
      "1024\n",
      "1024\n",
      "1024\n",
      "740\n",
      "0\n",
      "img1.jpg을 img2.jpg로 복사했습니다.\n"
     ]
    }
   ],
   "source": [
    "filename1 = input('원본 파일 이름을 입력하시오: ')  # 파일 형식도 같이 적어야함\n",
    "filename2 = input('복사 파일 이름을 입력하시오: ')\n",
    "\n",
    "infile = open(filename1, 'rb')\n",
    "outfile = open(filename2, 'wb')\n",
    "\n",
    "# 입력 파일에서 1024 바이트씩 읽어서 출력 파일에 쓴다.\n",
    "# 파일의 마지막 부분에서는 읽어 들인 바이트 수만큼 파일에 저장\n",
    "while True:\n",
    "    copy_buffer = infile.read(1024)\n",
    "    print(len(copy_buffer))  # 실제 읽어온 바이트 수 출력\n",
    "    if not copy_buffer:      # 파일의 끝인 경우, empty byte를 리턴\n",
    "        break\n",
    "    outfile.write(copy_buffer)\n",
    "\n",
    "infile.close()\n",
    "outfile.close()\n",
    "print(f\"{filename1}을 {filename2}로 복사했습니다.\")"
   ]
  },
  {
   "cell_type": "markdown",
   "metadata": {},
   "source": [
    "- 딕셔너리 파일 입출력 예제"
   ]
  },
  {
   "cell_type": "code",
   "execution_count": 3,
   "metadata": {},
   "outputs": [
    {
     "name": "stdout",
     "output_type": "stream",
     "text": [
      "{'a': 1, 'b': 10, 'c': 100}\n"
     ]
    }
   ],
   "source": [
    "import pickle\n",
    "\n",
    "fout = open('pickle.bin', 'wb')\n",
    "mydict = dict()\n",
    "\n",
    "mydict['a'] = 1\n",
    "mydict['b'] = 10\n",
    "mydict['c'] = 100\n",
    "\n",
    "pickle.dump(mydict, fout)\n",
    "fout.close()\n",
    "\n",
    "fin = open('pickle.bin', 'rb')\n",
    "dict1 = pickle.load(fin)\n",
    "fin.close()\n",
    "print(dict1)"
   ]
  }
 ],
 "metadata": {
  "kernelspec": {
   "display_name": "TEST",
   "language": "python",
   "name": "python3"
  },
  "language_info": {
   "codemirror_mode": {
    "name": "ipython",
    "version": 3
   },
   "file_extension": ".py",
   "mimetype": "text/x-python",
   "name": "python",
   "nbconvert_exporter": "python",
   "pygments_lexer": "ipython3",
   "version": "3.9.18"
  }
 },
 "nbformat": 4,
 "nbformat_minor": 2
}
