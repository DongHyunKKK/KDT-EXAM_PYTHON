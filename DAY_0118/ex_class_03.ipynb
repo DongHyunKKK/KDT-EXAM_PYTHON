{
 "cells": [
  {
   "cell_type": "markdown",
   "metadata": {},
   "source": [
    "## 2차원 점 클래스\n",
    "- 클래스 이름 : Pint2D\n",
    "- 클래스 속성 : x, y, color, shape, size\n",
    "- 클래스 기능 : 그리기, 지우기, 정보 출력"
   ]
  },
  {
   "cell_type": "code",
   "execution_count": 3,
   "metadata": {},
   "outputs": [],
   "source": [
    "class Point2D:\n",
    "    # 클래스 속성 => 없음\n",
    "    \n",
    "    # 객체 즉 인스턴스 생성\n",
    "    def __init__(self, x, y, color, shape, size):\n",
    "        self.x = x\n",
    "        self.y = y\n",
    "        self.color = color\n",
    "        self.shape = shape\n",
    "        self.size = size\n",
    "    \n",
    "    # 객체 즉 인스턴스 메서드\n",
    "    def draw(self):\n",
    "        print(f'좌표 ({self.x}, {self.y})에 {self.shape} 그리기')\n",
    "    \n",
    "    def printInfo(self):\n",
    "        print(f'위치 : {self.x}, {self.y}')\n",
    "        print(f'색상 : {self.color}')\n",
    "        print(f'형태 : {self.shape}')"
   ]
  },
  {
   "cell_type": "markdown",
   "metadata": {},
   "source": [
    "## 3차원 점 클래스\n",
    "- 클래스 이름 : Point3D\n",
    "- 클래스 속성 : x, y, z, color, shape, size\n",
    "- 클래스 기능 : 그리기, 지우기, 정보 출력 "
   ]
  },
  {
   "cell_type": "code",
   "execution_count": 9,
   "metadata": {},
   "outputs": [],
   "source": [
    "# import ex_class_02 as e2\n",
    "# 다른 파일에 있는 클래스를 상속 받으려면 다른 파일에서 맨 밑에 if __name__ == '__main__':에 사용 안하는 코드 모두 들여쓰기 \n",
    "\n",
    "class Point3D(Point2D):\n",
    "    # 클래스 속성 => 없음\n",
    "    def __init__(self, x, y, z, color, shape, size):\n",
    "        # 부모 객체 생성\n",
    "        super().__init__(x, y, color, shape, size)\n",
    "        self.z = z\n",
    "        print('Point3D')\n",
    "    \n",
    "    # 상속받은 부모의 메서드를 나의 취향에맞게 수정 => 오버라이딩   \n",
    "    def printInfo(self):\n",
    "        print('3D')\n",
    "        print(f'위치 : {self.x}, {self.y}, {self.z}')\n",
    "        print(f'색상 : {self.color}')\n",
    "        print(f'형태 : {self.shape}')"
   ]
  },
  {
   "cell_type": "code",
   "execution_count": 10,
   "metadata": {},
   "outputs": [
    {
     "name": "stdout",
     "output_type": "stream",
     "text": [
      "Point3D\n",
      "5 5 yellow rectangle (3, 3, 3)\n",
      "위치 : 5, 5\n",
      "색상 : yellow\n",
      "형태 : rectangle\n"
     ]
    }
   ],
   "source": [
    "# p2 = Point2D(10, 10, 'RED', 'circle', (10, 10))\n",
    "p3 = Point3D(5, 5, 5, 'yellow', 'rectangle', (3, 3, 3))\n",
    "print(p3.x, p3.y, p3.color, p3.shape, p3.size)\n",
    "p3.printInfo()"
   ]
  },
  {
   "cell_type": "code",
   "execution_count": null,
   "metadata": {},
   "outputs": [],
   "source": [
    "\n"
   ]
  }
 ],
 "metadata": {
  "kernelspec": {
   "display_name": "TEST",
   "language": "python",
   "name": "python3"
  },
  "language_info": {
   "codemirror_mode": {
    "name": "ipython",
    "version": 3
   },
   "file_extension": ".py",
   "mimetype": "text/x-python",
   "name": "python",
   "nbconvert_exporter": "python",
   "pygments_lexer": "ipython3",
   "version": "3.9.18"
  }
 },
 "nbformat": 4,
 "nbformat_minor": 2
}
