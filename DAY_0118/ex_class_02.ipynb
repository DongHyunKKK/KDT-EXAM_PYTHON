{
 "cells": [
  {
   "cell_type": "markdown",
   "metadata": {},
   "source": [
    "## 자동차 클래스\n",
    "- 클래스 이름 : Car\n",
    "- 클래스 속성 : 바퀴, 색상, 엔진, 차번호, 차종류 (인스턴스 속성), 제조사(클래스 속성)\n",
    "- 클래스 기능 : 주행한다, 정지한다, 후진하다"
   ]
  },
  {
   "cell_type": "code",
   "execution_count": 1,
   "metadata": {},
   "outputs": [],
   "source": [
    "class Car:\n",
    "    # 클래스 속성\n",
    "    maker = '현대'\n",
    "\n",
    "    # 생성자 메서드 => 객체 즉, 인스턴스 생성 메서드\n",
    "    def __init__(self, wheel, color, number, kind):\n",
    "        # 힙 영역에 저장\n",
    "        self.wheel = wheel\n",
    "        self.color = color\n",
    "        self.number = number\n",
    "\n",
    "    # 객체 즉, 카 인스턴스 메서드\n",
    "    def driving(self, where):\n",
    "        print(f'{where}에 {self.number} 차가 드라이빙 한다.')\n",
    "    \n",
    "    def back(self):\n",
    "        print(f'{self.number} 차가 후진 한다.')\n",
    "    \n",
    "    def stop(self):\n",
    "        print(f'{self.number} 차가 정지 한다.')\n",
    "        "
   ]
  },
  {
   "cell_type": "markdown",
   "metadata": {},
   "source": [
    "- 자동차 인스턴스 생성"
   ]
  },
  {
   "cell_type": "code",
   "execution_count": 2,
   "metadata": {},
   "outputs": [],
   "source": [
    "myCar = Car(19, 'red', '1111', '새단')\n",
    "secondCar = Car(20, 'hotpink', '7777', 'SUV')"
   ]
  },
  {
   "cell_type": "markdown",
   "metadata": {},
   "source": [
    "- 계산기 클래스\n",
    "    * 클래스 이름 : Love\n",
    "    * 클래스 속성 : 브랜드, 종류, 색상, 크기, 가격, 데이터,\n",
    "    * 클래스 기능 : 덧셈, 뺄셈, 곱셈, 나눗셈\n",
    "    * 데이터 => 속성 또는 기능에서 매개변수"
   ]
  },
  {
   "cell_type": "code",
   "execution_count": 13,
   "metadata": {},
   "outputs": [],
   "source": [
    "class Calc:\n",
    "    # 클래스 변수\n",
    "    maker = '카시오'\n",
    "    __size = (7, 15)  #  비공개 속성 __속성명 : 클래스 밖에서 속성을 읽거나 쓰기 불가\n",
    "    # 객체 즉 인스턴스 생성 메서드\n",
    "    def __init__(self, kind, color, size, price, info):\n",
    "        self.kind = kind\n",
    "        self.color = color\n",
    "        self.price = price\n",
    "        self.__info = info  # 인스턴스 생성 시 계산기에 각인되는 정보\n",
    "        self.data = 0\n",
    "    \n",
    "    # 비공개 인스턴스 속성 읽기 / 쓰기 (getter/setter) 메서드\n",
    "    def getInfo(self):\n",
    "        return self.__info\n",
    "    \n",
    "    def setInfo(self, info):\n",
    "        return self.__info\n",
    "    \n",
    "    # 비공개 인스턴스 속성 읽기 / 쓰기 (getter/setter) 메서드\n",
    "    @property\n",
    "    def info(self) : return self.__info\n",
    "\n",
    "    @info.setter\n",
    "    def info(self, info):\n",
    "        self.__info = info\n",
    "    \n",
    "    # 덧셈 기능\n",
    "    def plus(self, nums):\n",
    "        self.data += nums\n",
    "\n",
    "    def minus(self, nums):\n",
    "        self.data -= nums\n",
    "    \n",
    "    def multi(self, nums):\n",
    "        self.data *= nums\n",
    "\n",
    "    def div(self,nums):\n",
    "        if not nums: return '0으로 나눌 수 없습니다.'\n",
    "        self.data = self.data/nums  \n",
    "\n",
    "    def result(self):\n",
    "        return self.data"
   ]
  },
  {
   "cell_type": "markdown",
   "metadata": {},
   "source": [
    "- Calc 클래스로 인스턴스 생성 => 힙에 생성 : 인스턴스변수 + 클래스 변수, 인스턴스 메서드 사용 가능"
   ]
  },
  {
   "cell_type": "code",
   "execution_count": 14,
   "metadata": {},
   "outputs": [],
   "source": [
    "c1 = Calc('공학용', '블랙', '10x20', 10000, '홍길동 계산기')"
   ]
  },
  {
   "cell_type": "markdown",
   "metadata": {},
   "source": [
    "- 인스턴스 속성 읽기 => 공개 속성만 읽기 가능"
   ]
  },
  {
   "cell_type": "code",
   "execution_count": 15,
   "metadata": {},
   "outputs": [
    {
     "name": "stdout",
     "output_type": "stream",
     "text": [
      "0 블랙 공학용\n"
     ]
    }
   ],
   "source": [
    "print(c1.data, c1.color, c1.kind)"
   ]
  },
  {
   "cell_type": "markdown",
   "metadata": {},
   "source": [
    "- 인스턴스 속성 변경 => 공개 속성만 읽기 가능"
   ]
  },
  {
   "cell_type": "code",
   "execution_count": 16,
   "metadata": {},
   "outputs": [],
   "source": [
    "c1.color = '빨강색'"
   ]
  },
  {
   "cell_type": "markdown",
   "metadata": {},
   "source": [
    "- 인스턴스 비공개 속성 읽기 ==> getter/setter 메서드를 통해서 읽기 / 쓰기"
   ]
  },
  {
   "cell_type": "code",
   "execution_count": 17,
   "metadata": {},
   "outputs": [
    {
     "name": "stdout",
     "output_type": "stream",
     "text": [
      "홍길동 계산기 홍길동 계산기\n"
     ]
    }
   ],
   "source": [
    "print(c1.getInfo(), c1.info)"
   ]
  },
  {
   "cell_type": "markdown",
   "metadata": {},
   "source": [
    "- 인스턴스 비공개 속성 변경 ==> getter/setter 메서드를 통해서 읽기 / 쓰기"
   ]
  },
  {
   "cell_type": "code",
   "execution_count": 18,
   "metadata": {},
   "outputs": [
    {
     "data": {
      "text/plain": [
       "'홍길동 계산기'"
      ]
     },
     "execution_count": 18,
     "metadata": {},
     "output_type": "execute_result"
    }
   ],
   "source": [
    "c1.setInfo('내꺼')\n",
    "#c1.info = '내꺼야'"
   ]
  },
  {
   "cell_type": "markdown",
   "metadata": {},
   "source": [
    "- Calc 클래스로 계산기 정보 확인 => 클래스 변수만 확인 가능, self값이 없으므로 인스턴스 변수나 메서드 사용 불가능"
   ]
  },
  {
   "cell_type": "code",
   "execution_count": null,
   "metadata": {},
   "outputs": [
    {
     "ename": "TypeError",
     "evalue": "plus() missing 1 required positional argument: 'nums'",
     "output_type": "error",
     "traceback": [
      "\u001b[1;31m---------------------------------------------------------------------------\u001b[0m",
      "\u001b[1;31mTypeError\u001b[0m                                 Traceback (most recent call last)",
      "Cell \u001b[1;32mIn[15], line 1\u001b[0m\n\u001b[1;32m----> 1\u001b[0m \u001b[43mCalc\u001b[49m\u001b[38;5;241;43m.\u001b[39;49m\u001b[43mplus\u001b[49m\u001b[43m(\u001b[49m\u001b[38;5;241;43m10\u001b[39;49m\u001b[43m)\u001b[49m\n",
      "\u001b[1;31mTypeError\u001b[0m: plus() missing 1 required positional argument: 'nums'"
     ]
    }
   ],
   "source": [
    "Calc.plus(10)"
   ]
  },
  {
   "cell_type": "markdown",
   "metadata": {},
   "source": [
    "[실습] 위의 자동차 클래스를 상속받아 자율 주행 자동차 만들기"
   ]
  },
  {
   "cell_type": "code",
   "execution_count": 30,
   "metadata": {},
   "outputs": [],
   "source": [
    "class Car_upgrade(Car):\n",
    "    def __init__(self, wheel, color, number, kind, mode):\n",
    "        # 부모 객체 생성\n",
    "        super().__init__(wheel, color, number, kind)\n",
    "        self.mode = mode\n",
    "    \n",
    "    def fly(self, destination):\n",
    "        if self.mode == '자율비행':\n",
    "            print(f'{self.number}차가 {destination}으로 자율비행 중입니다.')\n",
    "        \n",
    "    def auto(self, destination):\n",
    "        if self.mode == '자율주행':\n",
    "            print(f'{self.number}차가 {destination}으로 자율주행 중입니다.')"
   ]
  },
  {
   "cell_type": "code",
   "execution_count": 40,
   "metadata": {},
   "outputs": [],
   "source": [
    "mycar = Car_upgrade(20, 'hotpink', '7777', 'SUV', '자율주행')"
   ]
  },
  {
   "cell_type": "code",
   "execution_count": 42,
   "metadata": {},
   "outputs": [
    {
     "name": "stdout",
     "output_type": "stream",
     "text": [
      "7777차가 내집으로 자율주행 중입니다.\n"
     ]
    }
   ],
   "source": [
    "mycar.auto('내집')"
   ]
  },
  {
   "cell_type": "code",
   "execution_count": 49,
   "metadata": {},
   "outputs": [],
   "source": [
    "mycar2 = Car_upgrade(20, 'hotpink', '7777', 'SUV', '자율비행')"
   ]
  },
  {
   "cell_type": "code",
   "execution_count": 50,
   "metadata": {},
   "outputs": [
    {
     "name": "stdout",
     "output_type": "stream",
     "text": [
      "7777차가 내집으로 자율비행 중입니다.\n"
     ]
    }
   ],
   "source": [
    "mycar2.fly('내집')"
   ]
  },
  {
   "cell_type": "code",
   "execution_count": null,
   "metadata": {},
   "outputs": [],
   "source": []
  },
  {
   "cell_type": "code",
   "execution_count": null,
   "metadata": {},
   "outputs": [],
   "source": []
  },
  {
   "cell_type": "markdown",
   "metadata": {},
   "source": []
  }
 ],
 "metadata": {
  "kernelspec": {
   "display_name": "TEST",
   "language": "python",
   "name": "python3"
  },
  "language_info": {
   "codemirror_mode": {
    "name": "ipython",
    "version": 3
   },
   "file_extension": ".py",
   "mimetype": "text/x-python",
   "name": "python",
   "nbconvert_exporter": "python",
   "pygments_lexer": "ipython3",
   "version": "3.9.18"
  }
 },
 "nbformat": 4,
 "nbformat_minor": 2
}
