{
 "cells": [
  {
   "cell_type": "markdown",
   "metadata": {},
   "source": [
    "## [ 34 클래스 사용하기 ]"
   ]
  },
  {
   "cell_type": "markdown",
   "metadata": {},
   "source": [
    "### 34.1 클래스와 메서드 만들기 <hr>"
   ]
  },
  {
   "cell_type": "code",
   "execution_count": 1,
   "metadata": {},
   "outputs": [],
   "source": [
    "class Person:\n",
    "    def greeting(self):\n",
    "        print('Hello')"
   ]
  },
  {
   "cell_type": "code",
   "execution_count": 2,
   "metadata": {},
   "outputs": [],
   "source": [
    "james = Person()"
   ]
  },
  {
   "cell_type": "markdown",
   "metadata": {},
   "source": [
    "#### 34.1.1 메서드 호출하기"
   ]
  },
  {
   "cell_type": "code",
   "execution_count": 3,
   "metadata": {},
   "outputs": [
    {
     "name": "stdout",
     "output_type": "stream",
     "text": [
      "Hello\n"
     ]
    }
   ],
   "source": [
    "james.greeting()"
   ]
  },
  {
   "cell_type": "markdown",
   "metadata": {},
   "source": [
    "#### 34.1.2 파이썬에서 흔히 볼 수 있는 클래스"
   ]
  },
  {
   "cell_type": "code",
   "execution_count": 8,
   "metadata": {},
   "outputs": [
    {
     "name": "stdout",
     "output_type": "stream",
     "text": [
      "10\n",
      "\n",
      "[0, 1, 2, 3, 4, 5, 6, 7, 8, 9]\n",
      "\n",
      "{'x': 10, 'y': 20}\n"
     ]
    }
   ],
   "source": [
    "a = int(10)\n",
    "print(a)\n",
    "print()\n",
    "\n",
    "b = list(range(10))\n",
    "print(b)\n",
    "print()\n",
    "\n",
    "c = dict(x = 10, y = 20)\n",
    "print(c)"
   ]
  },
  {
   "cell_type": "code",
   "execution_count": 10,
   "metadata": {},
   "outputs": [
    {
     "data": {
      "text/plain": [
       "[0, 1, 2, 3, 4, 5, 6, 7, 8, 9, 20, 20]"
      ]
     },
     "execution_count": 10,
     "metadata": {},
     "output_type": "execute_result"
    }
   ],
   "source": [
    "b.append(20)\n",
    "b"
   ]
  },
  {
   "cell_type": "code",
   "execution_count": 14,
   "metadata": {},
   "outputs": [
    {
     "name": "stdout",
     "output_type": "stream",
     "text": [
      "<class 'int'>\n",
      "\n",
      "<class 'list'>\n",
      "\n",
      "<class 'dict'>\n",
      "\n"
     ]
    },
    {
     "data": {
      "text/plain": [
       "__main__.Person"
      ]
     },
     "execution_count": 14,
     "metadata": {},
     "output_type": "execute_result"
    }
   ],
   "source": [
    "a = 10\n",
    "print(type(a))\n",
    "print()\n",
    "\n",
    "b = [0, 1, 2]\n",
    "print(type(b))\n",
    "print()\n",
    "\n",
    "c = {'x' : 10, 'y' : 20}\n",
    "print(type(c))\n",
    "print()\n",
    "\n",
    "maria = Person()\n",
    "type(maria)"
   ]
  },
  {
   "cell_type": "markdown",
   "metadata": {},
   "source": [
    "#### 34.1.3 인스턴스와 객체의 차이점?"
   ]
  },
  {
   "cell_type": "code",
   "execution_count": 15,
   "metadata": {},
   "outputs": [],
   "source": [
    "# 빈 클래스 만들기\n",
    "class Person:\n",
    "    pass"
   ]
  },
  {
   "cell_type": "code",
   "execution_count": 17,
   "metadata": {},
   "outputs": [
    {
     "name": "stdout",
     "output_type": "stream",
     "text": [
      "Hello\n"
     ]
    }
   ],
   "source": [
    "# 메서드 안에서 메서드 호출하기\n",
    "class Person:\n",
    "    def greeting(self):\n",
    "        print('Hello')\n",
    "    \n",
    "    def hello(self):\n",
    "        self.greeting()  # self.메서드 형식으로 클래스 안의 메서드를 호출\n",
    "\n",
    "james = Person()\n",
    "james.hello()"
   ]
  },
  {
   "cell_type": "code",
   "execution_count": 19,
   "metadata": {},
   "outputs": [
    {
     "data": {
      "text/plain": [
       "True"
      ]
     },
     "execution_count": 19,
     "metadata": {},
     "output_type": "execute_result"
    }
   ],
   "source": [
    "# 특정 클래스의 인스턴스인지 확인하기\n",
    "class Person:\n",
    "    pass\n",
    "\n",
    "james = Person()\n",
    "isinstance(james, Person)"
   ]
  },
  {
   "cell_type": "code",
   "execution_count": 20,
   "metadata": {},
   "outputs": [],
   "source": [
    "def factorial(n):\n",
    "    if not isinstance(n, int) or n < 0:\n",
    "        return None\n",
    "    if n == 1:\n",
    "        return 1\n",
    "    return n * factorial(n - 1)"
   ]
  },
  {
   "cell_type": "markdown",
   "metadata": {},
   "source": [
    "### 34.2 속성 사용하기 <hr>"
   ]
  },
  {
   "cell_type": "code",
   "execution_count": 21,
   "metadata": {},
   "outputs": [
    {
     "name": "stdout",
     "output_type": "stream",
     "text": [
      "안녕하세요.\n"
     ]
    }
   ],
   "source": [
    "class Person:\n",
    "    def __init__(self):\n",
    "        self.hello = '안녕하세요.'\n",
    "    \n",
    "    def greeting(self):\n",
    "        print(self.hello)\n",
    "    \n",
    "james = Person()\n",
    "james.greeting()"
   ]
  },
  {
   "cell_type": "markdown",
   "metadata": {},
   "source": [
    "#### 34.2.1 self의 의미"
   ]
  },
  {
   "cell_type": "markdown",
   "metadata": {},
   "source": [
    "#### 34.2.2 인스턴스를 만들 때 값 받기"
   ]
  },
  {
   "cell_type": "code",
   "execution_count": 24,
   "metadata": {},
   "outputs": [
    {
     "name": "stdout",
     "output_type": "stream",
     "text": [
      "안녕하세요. 저는 마리아입니다.\n",
      "이름: 마리아\n",
      "나이: 20\n",
      "주소: 서울시 서초구 반포동\n"
     ]
    }
   ],
   "source": [
    "class Person:\n",
    "    def __init__(self, name, age, address):\n",
    "        self.hello = '안녕하세요.'\n",
    "        self.name = name\n",
    "        self.age = age\n",
    "        self.address = address\n",
    "\n",
    "    def greeting(self):\n",
    "        print('{0} 저는 {1}입니다.'.format(self.hello, self.name))\n",
    "\n",
    "maria = Person('마리아', 20, '서울시 서초구 반포동')\n",
    "maria.greeting()\n",
    "\n",
    "print('이름:', maria.name)\n",
    "print('나이:', maria.age)\n",
    "print('주소:', maria.address)\n"
   ]
  },
  {
   "cell_type": "code",
   "execution_count": 31,
   "metadata": {},
   "outputs": [],
   "source": [
    "# 클래스의 위치 인수, 키워드 인수\n",
    "class Person:\n",
    "    def __init__(self, *args):\n",
    "        self.name = args[0]\n",
    "        self.age = args[1]\n",
    "        self.address = args[2]\n",
    "\n",
    "maria = Person(*['마리아', 20, '서울시 서초구 반포동'])\n",
    "\n",
    "class Person:   \n",
    "    def __init__(self, **kwargs):\n",
    "        self.name = kwargs['name']\n",
    "        self.age = kwargs['age']\n",
    "        self.address = kwargs['address']\n",
    "\n",
    "maria1 = Person(name = '마리아', age = 20, address = '서울시 서초구 반포동')\n",
    "maria2 = Person(**{'name' : '마리아', 'age' : 20, 'address' : '서울시 서초구 반포동'})"
   ]
  },
  {
   "cell_type": "code",
   "execution_count": 32,
   "metadata": {},
   "outputs": [
    {
     "data": {
      "text/plain": [
       "'마리아'"
      ]
     },
     "execution_count": 32,
     "metadata": {},
     "output_type": "execute_result"
    }
   ],
   "source": [
    "# 인스턴스를 생성한 뒤에 속성 추가하기, 특정 속성만 허용하기\n",
    "# 이렇게 추가한 속성은 해당 인스턴스에만 생성된다.\n",
    "# 따라서 클래스로 다른 인스턴스를 만들었을 때는 추가한 속성이 생성되지 않는다.\n",
    "\n",
    "class Person:\n",
    "    pass\n",
    "\n",
    "maria = Person()\n",
    "maria.name = '마리아'\n",
    "maria.name"
   ]
  },
  {
   "cell_type": "code",
   "execution_count": 33,
   "metadata": {},
   "outputs": [
    {
     "ename": "AttributeError",
     "evalue": "'Person' object has no attribute 'name'",
     "output_type": "error",
     "traceback": [
      "\u001b[1;31m---------------------------------------------------------------------------\u001b[0m",
      "\u001b[1;31mAttributeError\u001b[0m                            Traceback (most recent call last)",
      "Cell \u001b[1;32mIn[33], line 2\u001b[0m\n\u001b[0;32m      1\u001b[0m james \u001b[38;5;241m=\u001b[39m Person()\n\u001b[1;32m----> 2\u001b[0m \u001b[43mjames\u001b[49m\u001b[38;5;241;43m.\u001b[39;49m\u001b[43mname\u001b[49m\n",
      "\u001b[1;31mAttributeError\u001b[0m: 'Person' object has no attribute 'name'"
     ]
    }
   ],
   "source": [
    "james = Person()\n",
    "james.name"
   ]
  },
  {
   "cell_type": "code",
   "execution_count": 34,
   "metadata": {},
   "outputs": [
    {
     "ename": "AttributeError",
     "evalue": "'Person' object has no attribute 'hello'",
     "output_type": "error",
     "traceback": [
      "\u001b[1;31m---------------------------------------------------------------------------\u001b[0m",
      "\u001b[1;31mAttributeError\u001b[0m                            Traceback (most recent call last)",
      "Cell \u001b[1;32mIn[34], line 8\u001b[0m\n\u001b[0;32m      5\u001b[0m         \u001b[38;5;28mself\u001b[39m\u001b[38;5;241m.\u001b[39mhello \u001b[38;5;241m=\u001b[39m \u001b[38;5;124m'\u001b[39m\u001b[38;5;124m안녕하세요\u001b[39m\u001b[38;5;124m'\u001b[39m\n\u001b[0;32m      7\u001b[0m maria \u001b[38;5;241m=\u001b[39m Person()\n\u001b[1;32m----> 8\u001b[0m \u001b[43mmaria\u001b[49m\u001b[38;5;241;43m.\u001b[39;49m\u001b[43mhello\u001b[49m\n",
      "\u001b[1;31mAttributeError\u001b[0m: 'Person' object has no attribute 'hello'"
     ]
    }
   ],
   "source": [
    "# 인스턴스는 생성한 뒤에 속성을 추가할 수 있으므로 __init__ 메서드가 아닌 다른 메서드에서도 속성을 추가할 수 있다.\n",
    "# 단 이때는 메서드를 호출해야 속성이 생성된다.\n",
    "class Person:\n",
    "    def greeting(self):\n",
    "        self.hello = '안녕하세요'  # greeting 메서드에서 hello 속성 추가\n",
    "\n",
    "maria = Person()\n",
    "maria.hello  # 아직 hello 속성이 없음"
   ]
  },
  {
   "cell_type": "code",
   "execution_count": 35,
   "metadata": {},
   "outputs": [
    {
     "data": {
      "text/plain": [
       "'안녕하세요'"
      ]
     },
     "execution_count": 35,
     "metadata": {},
     "output_type": "execute_result"
    }
   ],
   "source": [
    "maria.greeting()  # greeting 메서드를 호출해야\n",
    "maria.hello       # hello 속성이 생성됨"
   ]
  },
  {
   "cell_type": "markdown",
   "metadata": {},
   "source": [
    "### 34.3 비공개 속성 사용하기 <hr>"
   ]
  },
  {
   "cell_type": "code",
   "execution_count": 36,
   "metadata": {},
   "outputs": [
    {
     "ename": "AttributeError",
     "evalue": "'Person' object has no attribute '__wallet'",
     "output_type": "error",
     "traceback": [
      "\u001b[1;31m---------------------------------------------------------------------------\u001b[0m",
      "\u001b[1;31mAttributeError\u001b[0m                            Traceback (most recent call last)",
      "Cell \u001b[1;32mIn[36], line 9\u001b[0m\n\u001b[0;32m      6\u001b[0m         \u001b[38;5;28mself\u001b[39m\u001b[38;5;241m.\u001b[39m__wallet \u001b[38;5;241m=\u001b[39m wallet\n\u001b[0;32m      8\u001b[0m maria \u001b[38;5;241m=\u001b[39m Person(\u001b[38;5;124m'\u001b[39m\u001b[38;5;124m마리아\u001b[39m\u001b[38;5;124m'\u001b[39m, \u001b[38;5;241m20\u001b[39m, \u001b[38;5;124m'\u001b[39m\u001b[38;5;124m서울시 서초구 반포동\u001b[39m\u001b[38;5;124m'\u001b[39m, \u001b[38;5;241m10000\u001b[39m)\n\u001b[1;32m----> 9\u001b[0m maria\u001b[38;5;241m.\u001b[39m__wallet \u001b[38;5;241m-\u001b[39m\u001b[38;5;241m=\u001b[39m \u001b[38;5;241m10000\u001b[39m\n",
      "\u001b[1;31mAttributeError\u001b[0m: 'Person' object has no attribute '__wallet'"
     ]
    }
   ],
   "source": [
    "class Person:\n",
    "    def __init__(self, name, age, address, wallet):\n",
    "        self.name = name\n",
    "        self.age = age\n",
    "        self.address = address\n",
    "        self.__wallet = wallet\n",
    "\n",
    "maria = Person('마리아', 20, '서울시 서초구 반포동', 10000)\n",
    "maria.__wallet -= 10000"
   ]
  },
  {
   "cell_type": "code",
   "execution_count": 39,
   "metadata": {},
   "outputs": [
    {
     "name": "stdout",
     "output_type": "stream",
     "text": [
      "이제 7000원 남았네요.\n"
     ]
    }
   ],
   "source": [
    "class Person:\n",
    "    def __init__(self, name, age, address, wallet):\n",
    "        self.name = name\n",
    "        self.age = age\n",
    "        self.address = address\n",
    "        self.__wallet = wallet  # 변수 앞에 __를 붙여서 비공개 속성으로 만듦\n",
    "    \n",
    "    def pay(self, amount):\n",
    "        self.__wallet -= amount  # 비공개 속성은 클래스 안의 메서드에서만 접근할 수 있음\n",
    "        print('이제 {0}원 남았네요.'.format(self.__wallet))\n",
    "\n",
    "maria = Person('마리아', 20, '서울시 서초구 반포동', 10000)\n",
    "maria.pay(3000)"
   ]
  },
  {
   "cell_type": "code",
   "execution_count": null,
   "metadata": {},
   "outputs": [],
   "source": [
    "class Person:\n",
    "    def __init__(self, name, age, address, wallet):\n",
    "        self.name = name\n",
    "        self.age = age\n",
    "        self.address = address\n",
    "        self.__wallet = wallet  # 변수 앞에 __를 붙여서 비공개 속성으로 만듦\n",
    "    \n",
    "    def pay(self, amount):\n",
    "        if amount > self.__wallet:\n",
    "                    # 비공개 속성은 클래스 안의 메서드에서만 접근할 수 있음\n",
    "        print('이제 {0}원 남았네요.'.format(self.__wallet))\n",
    "\n",
    "maria = Person('마리아', 20, '서울시 서초구 반포동', 10000)\n",
    "maria.pay(3000)"
   ]
  },
  {
   "cell_type": "code",
   "execution_count": 40,
   "metadata": {},
   "outputs": [
    {
     "ename": "AttributeError",
     "evalue": "'Person' object has no attribute '__greeting'",
     "output_type": "error",
     "traceback": [
      "\u001b[1;31m---------------------------------------------------------------------------\u001b[0m",
      "\u001b[1;31mAttributeError\u001b[0m                            Traceback (most recent call last)",
      "Cell \u001b[1;32mIn[40], line 10\u001b[0m\n\u001b[0;32m      7\u001b[0m         \u001b[38;5;28mself\u001b[39m\u001b[38;5;241m.\u001b[39m__greeting()\n\u001b[0;32m      9\u001b[0m james \u001b[38;5;241m=\u001b[39m Person()\n\u001b[1;32m---> 10\u001b[0m \u001b[43mjames\u001b[49m\u001b[38;5;241;43m.\u001b[39;49m\u001b[43m__greeting\u001b[49m()\n",
      "\u001b[1;31mAttributeError\u001b[0m: 'Person' object has no attribute '__greeting'"
     ]
    }
   ],
   "source": [
    "# 비공개 메서드 사용하기\n",
    "class Person:\n",
    "    def __greeting(self):\n",
    "        print('Hello')\n",
    "    \n",
    "    def hello(self):\n",
    "        self.__greeting()  # 클래스 안에서는 비공개 메서드를 호출할 수 있음\n",
    "\n",
    "james = Person()\n",
    "james.__greeting()  # 에러 : 클래스 바깥에서는 비공개 메서드를 호출할 수 있음"
   ]
  },
  {
   "cell_type": "markdown",
   "metadata": {},
   "source": [
    "### 34.5 연습문제 : 게임 캐릭터 클래스 만들기 <hr>"
   ]
  },
  {
   "cell_type": "code",
   "execution_count": 41,
   "metadata": {},
   "outputs": [],
   "source": [
    "class Knight:\n",
    "    def __init__(self, health, mana, armor):\n",
    "        self.health = health\n",
    "        self.mana = mana\n",
    "        self.armor = armor\n",
    "    \n",
    "    def slash(self):\n",
    "        print('베기')"
   ]
  },
  {
   "cell_type": "markdown",
   "metadata": {},
   "source": [
    "### 34.6 연습문제 : 게임 캐릭터 클래스 만들기 <hr>"
   ]
  },
  {
   "cell_type": "code",
   "execution_count": 48,
   "metadata": {},
   "outputs": [],
   "source": [
    "class Annie:\n",
    "    def __init__(self, health, mana, ability_power):\n",
    "        self.health = health\n",
    "        self.mana = mana\n",
    "        self.ability_power = ability_power\n",
    "    \n",
    "    def tibbers(self):\n",
    "        damage = self.ability_power * 0.65 + 400\n",
    "        print(f'티버 : 피해량 {damage}')"
   ]
  },
  {
   "cell_type": "code",
   "execution_count": 50,
   "metadata": {},
   "outputs": [
    {
     "name": "stdout",
     "output_type": "stream",
     "text": [
      "티버 : 피해량 819.25\n"
     ]
    }
   ],
   "source": [
    "health, mana, ability_power = map(float, input().split())\n",
    "x = Annie(health, mana, ability_power)\n",
    "x.tibbers()"
   ]
  },
  {
   "cell_type": "markdown",
   "metadata": {},
   "source": [
    "## [ 35 클래스 속성과 정적, 클래스 메서드 사용하기 ]"
   ]
  },
  {
   "cell_type": "markdown",
   "metadata": {},
   "source": [
    "### 35.1 클래스 속성과 인스턴스 속성 알아보기 <hr>"
   ]
  },
  {
   "cell_type": "markdown",
   "metadata": {},
   "source": [
    "#### 35.1.1 클래스 속성 사용하기"
   ]
  },
  {
   "cell_type": "code",
   "execution_count": 51,
   "metadata": {},
   "outputs": [
    {
     "name": "stdout",
     "output_type": "stream",
     "text": [
      "['책', '열쇠']\n",
      "['책', '열쇠']\n"
     ]
    }
   ],
   "source": [
    "class Person:\n",
    "    bag = []\n",
    "\n",
    "    def put_bag(self, stuff):\n",
    "        self.bag.append(stuff)\n",
    "\n",
    "james = Person()\n",
    "james.put_bag('책')\n",
    "\n",
    "maria = Person()\n",
    "maria.put_bag('열쇠')\n",
    "\n",
    "print(james.bag)\n",
    "print(maria.bag)"
   ]
  },
  {
   "cell_type": "markdown",
   "metadata": {},
   "source": [
    "#### 35.1.2 인스턴스 속성 사용하기"
   ]
  },
  {
   "cell_type": "code",
   "execution_count": 52,
   "metadata": {},
   "outputs": [
    {
     "name": "stdout",
     "output_type": "stream",
     "text": [
      "['책']\n",
      "['열쇠']\n"
     ]
    }
   ],
   "source": [
    "class Person:\n",
    "    def __init__(self):\n",
    "        self.bag = []\n",
    "    \n",
    "    def put_bag(self, stuff):\n",
    "        self.bag.append(stuff)\n",
    "\n",
    "james = Person()\n",
    "james.put_bag('책')\n",
    "\n",
    "maria = Person()\n",
    "maria.put_bag('열쇠')\n",
    "\n",
    "print(james.bag)\n",
    "print(maria.bag)"
   ]
  },
  {
   "cell_type": "markdown",
   "metadata": {},
   "source": [
    "#### 35.1.3 비공개 클래스 속성 사용하기"
   ]
  },
  {
   "cell_type": "code",
   "execution_count": 54,
   "metadata": {},
   "outputs": [
    {
     "name": "stdout",
     "output_type": "stream",
     "text": [
      "10\n"
     ]
    },
    {
     "ename": "AttributeError",
     "evalue": "type object 'Knight' has no attribute '__item_limit'",
     "output_type": "error",
     "traceback": [
      "\u001b[1;31m---------------------------------------------------------------------------\u001b[0m",
      "\u001b[1;31mAttributeError\u001b[0m                            Traceback (most recent call last)",
      "Cell \u001b[1;32mIn[54], line 10\u001b[0m\n\u001b[0;32m      7\u001b[0m x \u001b[38;5;241m=\u001b[39m Knight()\n\u001b[0;32m      8\u001b[0m x\u001b[38;5;241m.\u001b[39mprint_item_limit()  \u001b[38;5;66;03m# 10\u001b[39;00m\n\u001b[1;32m---> 10\u001b[0m \u001b[38;5;28mprint\u001b[39m(\u001b[43mKnight\u001b[49m\u001b[38;5;241;43m.\u001b[39;49m\u001b[43m__item_limit\u001b[49m)\n",
      "\u001b[1;31mAttributeError\u001b[0m: type object 'Knight' has no attribute '__item_limit'"
     ]
    }
   ],
   "source": [
    "class Knight:\n",
    "    __item_limit = 10  # 비공개 클래스 속성\n",
    "\n",
    "    def print_item_limit(self):\n",
    "        print(Knight.__item_limit)  # 클래스 안에서만 접근할 수 있음\n",
    "\n",
    "x = Knight()\n",
    "x.print_item_limit()  # 10\n",
    "\n",
    "print(Knight.__item_limit)\n",
    "    \n"
   ]
  },
  {
   "cell_type": "markdown",
   "metadata": {},
   "source": [
    "### 35.2 정적 메서드 사용하기 <hr>"
   ]
  },
  {
   "cell_type": "code",
   "execution_count": 58,
   "metadata": {},
   "outputs": [
    {
     "name": "stdout",
     "output_type": "stream",
     "text": [
      "30\n",
      "200\n"
     ]
    }
   ],
   "source": [
    "# 정적 메서드는 self를 받지 않으므로 인스턴스 속성에는 접근할 수 없다.\n",
    "# 그래서 보통 정적 메서드는 인스턴스 속성, 인스턴스 메서드가 필요 없을 때 사용한다.\n",
    "class Calc:\n",
    "    @staticmethod\n",
    "    def add(a, b):\n",
    "        print(a + b)\n",
    "    \n",
    "    @staticmethod\n",
    "    def mul(a, b):\n",
    "        print(a * b)\n",
    "\n",
    "Calc.add(10, 20)\n",
    "Calc.mul(10, 20)"
   ]
  },
  {
   "cell_type": "code",
   "execution_count": 60,
   "metadata": {},
   "outputs": [
    {
     "name": "stdout",
     "output_type": "stream",
     "text": [
      "{1, 2, 3, 4, 5}\n"
     ]
    },
    {
     "data": {
      "text/plain": [
       "{1, 2, 3, 4, 5}"
      ]
     },
     "execution_count": 60,
     "metadata": {},
     "output_type": "execute_result"
    }
   ],
   "source": [
    "# 참고\n",
    "# 파이썬 자료형의 인스턴스 메서드와 정적 메서드\n",
    "# 세트에 요소를 더할 때는 인스턴스 메서드를 사용한다.\n",
    "# 합집합을 구할 때는 정적메서드를 사용하도록 만들어져 있다.\n",
    "# 인스턴스의 내용을 변경해야 할 때는 update와 같이 인스턴스 메서드로 작성\n",
    "# 인스턴스 내용과는 상관없이 결과만 구할 때는 set.union과 같이 정적 메서드로 작성하면 된다.\n",
    "a = {1, 2, 3, 4}\n",
    "a.update({5})  # 인스턴스 메서드\n",
    "print(a)\n",
    "set.union({1, 2, 3, 4}, {5})  #정적(클래스) 메서드\n"
   ]
  },
  {
   "cell_type": "markdown",
   "metadata": {},
   "source": [
    "### 35.3 클래스 메서드 사용하기 <hr>"
   ]
  },
  {
   "cell_type": "code",
   "execution_count": 63,
   "metadata": {},
   "outputs": [
    {
     "name": "stdout",
     "output_type": "stream",
     "text": [
      "2명 생성되었습니다.\n"
     ]
    }
   ],
   "source": [
    "class Person:\n",
    "    count = 0  # 클래스 속성\n",
    "\n",
    "    def __init__(self):\n",
    "        Person.count += 1  # 인스턴스가 만들어질 때 클래스 속성 count에 1을 더함\n",
    "    \n",
    "    @classmethod\n",
    "    def print_count(cls):\n",
    "        print('{0}명 생성되었습니다.'.format(cls.count))  # cls로 클래스 속성 접근\n",
    "\n",
    "james = Person()\n",
    "maria = Person()\n",
    "\n",
    "Person.print_count()"
   ]
  },
  {
   "cell_type": "code",
   "execution_count": 65,
   "metadata": {},
   "outputs": [],
   "source": [
    "# 클래스 메서드는 정적 메서드처럼 인스턴스 없이 호출할 수 있다는 점은 같다.\n",
    "# 하지만 클래스 메서드는 메서드 안에서 클래스 속성, 클래스 메서드에 접근해야 할 때 사용한다.\n",
    "\n",
    "class Person:\n",
    "    count = 0  # 클래스 속성\n",
    "\n",
    "    def __init__(self):\n",
    "        Person.count += 1  # 인스턴스가 만들어질 때 클래스 속성 count에 1을 더함\n",
    "    \n",
    "    @classmethod\n",
    "    def print_count(cls):\n",
    "        print('{0}명 생성되었습니다.'.format(cls.count))  # cls로 클래스 속성 접근\n",
    "    \n",
    "    @classmethod\n",
    "    def creat(cls):\n",
    "        p = cls()\n",
    "        return p"
   ]
  },
  {
   "cell_type": "markdown",
   "metadata": {},
   "source": [
    "### 35.5 연습문제 : 날짜 클래스 만들기 <hr>"
   ]
  },
  {
   "cell_type": "code",
   "execution_count": 105,
   "metadata": {},
   "outputs": [
    {
     "name": "stdout",
     "output_type": "stream",
     "text": [
      "올바른 날짜 형식입니다.\n"
     ]
    }
   ],
   "source": [
    "class Date:\n",
    "    @staticmethod\n",
    "    def is_date_valid(date_string):\n",
    "        year, month, day = map(int, date_string.split('-'))\n",
    "        return month <= 12 and day <= 31\n",
    "\n",
    "if Date.is_date_valid('2000-10-31'):\n",
    "    print('올바른 날짜 형식입니다.')\n",
    "else:\n",
    "    print('잘못된 날짜 형식입니다.')\n"
   ]
  },
  {
   "cell_type": "markdown",
   "metadata": {},
   "source": [
    "### 35.6 연습문제 : 시간 클래스 만들기 <hr>"
   ]
  },
  {
   "cell_type": "code",
   "execution_count": 117,
   "metadata": {},
   "outputs": [
    {
     "name": "stdout",
     "output_type": "stream",
     "text": [
      "잘못된 시간 형식입니다.\n"
     ]
    }
   ],
   "source": [
    "class Time:\n",
    "    def __init__(self, hour, minute, second):\n",
    "        self.hour  = hour\n",
    "        self.minute = minute\n",
    "        self.second = second\n",
    "\n",
    "    @staticmethod\n",
    "    def is_time_valid(time_string):\n",
    "        hour, minute, second = map(int, time_string.split(':'))\n",
    "        return hour <= 24 and minute <= 59 and second <= 60\n",
    "    \n",
    "    @staticmethod\n",
    "    def from_string(time_string):\n",
    "        hour, minute, second = map(int, time_string.split(':'))\n",
    "        return Time(hour, minute, second)\n",
    "        \n",
    "time_string = input()\n",
    "\n",
    "if Time.is_time_valid(time_string):\n",
    "    t = Time.from_string(time_string)\n",
    "    print(t.hour, t.minute, t.second)\n",
    "else:\n",
    "    print('잘못된 시간 형식입니다.')"
   ]
  },
  {
   "cell_type": "markdown",
   "metadata": {},
   "source": [
    "## [ 36 클래스 상속 사용하기 ]"
   ]
  },
  {
   "cell_type": "markdown",
   "metadata": {},
   "source": [
    "### 36.1 사람 클래스로 학생 클래스 만들기 <hr>"
   ]
  },
  {
   "cell_type": "code",
   "execution_count": 66,
   "metadata": {},
   "outputs": [
    {
     "name": "stdout",
     "output_type": "stream",
     "text": [
      "안녕하세요.\n",
      "공부하기\n"
     ]
    }
   ],
   "source": [
    "class Person:\n",
    "    def greeting(self):\n",
    "        print('안녕하세요.')\n",
    "\n",
    "class Student(Person):\n",
    "    def study(self):\n",
    "        print('공부하기')\n",
    "\n",
    "james = Student()\n",
    "james.greeting()\n",
    "james.study()"
   ]
  },
  {
   "cell_type": "code",
   "execution_count": 67,
   "metadata": {},
   "outputs": [
    {
     "data": {
      "text/plain": [
       "True"
      ]
     },
     "execution_count": 67,
     "metadata": {},
     "output_type": "execute_result"
    }
   ],
   "source": [
    "# 참고\n",
    "# 상속 관계 확인하기 ==> issubclass(파생클래스, 기반클래스)\n",
    "\n",
    "class Person:\n",
    "    pass\n",
    "\n",
    "class Student(Person):\n",
    "    pass\n",
    "\n",
    "issubclass(Student, Person)"
   ]
  },
  {
   "cell_type": "markdown",
   "metadata": {},
   "source": [
    "### 36.2 상속 관계와 포함 관계 알아보기 <hr>"
   ]
  },
  {
   "cell_type": "markdown",
   "metadata": {},
   "source": [
    "#### 36.2.1 상속 관계"
   ]
  },
  {
   "cell_type": "code",
   "execution_count": 68,
   "metadata": {},
   "outputs": [],
   "source": [
    "# 상속은 명확하게 같은 종류이며 동등한 관계일 때 사용한다.\n",
    "class Person:\n",
    "    def greeting(self):\n",
    "        print('안녕하세요.')\n",
    "    \n",
    "class Student(Person):\n",
    "    def study(self):\n",
    "        print('공부하기')"
   ]
  },
  {
   "cell_type": "markdown",
   "metadata": {},
   "source": [
    "#### 36.2.2 포함 관계"
   ]
  },
  {
   "cell_type": "code",
   "execution_count": 69,
   "metadata": {},
   "outputs": [],
   "source": [
    "class Person:\n",
    "    def greeting(self):\n",
    "        print('안녕하세요.')\n",
    "\n",
    "class PersonList:\n",
    "    def __init__(self):\n",
    "        self.person_list = []  # 리스트 속성에 Person 인스턴스를 넣어서 관리\n",
    "    \n",
    "    def append_person(self, person):\n",
    "        self.person_list.append(person)\n"
   ]
  },
  {
   "cell_type": "markdown",
   "metadata": {},
   "source": [
    "### 36.3 기반 클래스의 속성 사용하기 <hr>"
   ]
  },
  {
   "cell_type": "code",
   "execution_count": 71,
   "metadata": {},
   "outputs": [
    {
     "name": "stdout",
     "output_type": "stream",
     "text": [
      "Student __init__\n",
      "파이썬 코딩 도장\n"
     ]
    },
    {
     "ename": "AttributeError",
     "evalue": "'Student' object has no attribute 'hello'",
     "output_type": "error",
     "traceback": [
      "\u001b[1;31m---------------------------------------------------------------------------\u001b[0m",
      "\u001b[1;31mAttributeError\u001b[0m                            Traceback (most recent call last)",
      "Cell \u001b[1;32mIn[71], line 13\u001b[0m\n\u001b[0;32m     11\u001b[0m james \u001b[38;5;241m=\u001b[39m Student()\n\u001b[0;32m     12\u001b[0m \u001b[38;5;28mprint\u001b[39m(james\u001b[38;5;241m.\u001b[39mschool)\n\u001b[1;32m---> 13\u001b[0m \u001b[38;5;28mprint\u001b[39m(\u001b[43mjames\u001b[49m\u001b[38;5;241;43m.\u001b[39;49m\u001b[43mhello\u001b[49m)\n",
      "\u001b[1;31mAttributeError\u001b[0m: 'Student' object has no attribute 'hello'"
     ]
    }
   ],
   "source": [
    "class Person:\n",
    "    def __init__(self):\n",
    "        print('Person __init__')\n",
    "        self.hello = '안녕하세요.'\n",
    "\n",
    "class Student(Person):\n",
    "    def __init__(self):\n",
    "        print('Student __init__')\n",
    "        self.school = '파이썬 코딩 도장'\n",
    "\n",
    "james = Student()\n",
    "print(james.school)\n",
    "print(james.hello)"
   ]
  },
  {
   "cell_type": "markdown",
   "metadata": {},
   "source": [
    "#### 36.3.1 super()로 기반 클래스 초기화하기"
   ]
  },
  {
   "cell_type": "code",
   "execution_count": 75,
   "metadata": {},
   "outputs": [
    {
     "name": "stdout",
     "output_type": "stream",
     "text": [
      "Student __init__\n",
      "Person __init__\n",
      "파이썬 코딩 도장\n",
      "안녕하세요.\n"
     ]
    }
   ],
   "source": [
    "class Person:\n",
    "    def __init__(self):\n",
    "        print('Person __init__')\n",
    "        self.hello = '안녕하세요.'\n",
    "\n",
    "class Student(Person):\n",
    "    def __init__(self):\n",
    "        print('Student __init__')\n",
    "        super().__init__()  # super()로 기반 클래스의 __init__ 메서드 호출\n",
    "        self.school = '파이썬 코딩 도장'\n",
    "\n",
    "james = Student()\n",
    "print(james.school)\n",
    "print(james.hello)"
   ]
  },
  {
   "cell_type": "markdown",
   "metadata": {},
   "source": [
    "#### 36.3.2 기반 클래스를 초기화하지 않아도 되는 경우"
   ]
  },
  {
   "cell_type": "code",
   "execution_count": 77,
   "metadata": {},
   "outputs": [
    {
     "name": "stdout",
     "output_type": "stream",
     "text": [
      "Person __init__\n",
      "안녕하세요.\n"
     ]
    }
   ],
   "source": [
    "# 만약 파생 클래스에서 __init__메서드를 생략한다면 기반 클래스의 __init__이 자동으로 호출되므로 super()는 사용하지 않아도 된다.\n",
    "class Person:\n",
    "    def __init__(self):\n",
    "        print('Person __init__')\n",
    "        self.hello = '안녕하세요.'\n",
    "\n",
    "class Student(Person):\n",
    "    pass\n",
    "\n",
    "james = Student()\n",
    "print(james.hello)"
   ]
  },
  {
   "cell_type": "code",
   "execution_count": 80,
   "metadata": {},
   "outputs": [],
   "source": [
    "# 참고\n",
    "# super는 다음과 같이 파생 클래스와 self를 넣어서 현재 클래스가 어떤 클래스인지 명확하게 표시하는 방법도 있다.\n",
    "# 물론 super()와 기능은 같다.\n",
    "\n",
    "class Student(Person):\n",
    "    def __init__(self):\n",
    "        print('Student __init__')\n",
    "        super(Student, self).__init__  # super(파생클래스, self)로 기반 클래스의 메서드 호출\n",
    "        self.school = '파이썬 코딩 도장'"
   ]
  },
  {
   "cell_type": "markdown",
   "metadata": {},
   "source": [
    "### 36.4 메서드 오버라이딩 사용하기 <hr>"
   ]
  },
  {
   "cell_type": "code",
   "execution_count": 82,
   "metadata": {},
   "outputs": [
    {
     "name": "stdout",
     "output_type": "stream",
     "text": [
      "안녕하세요. 저는 파이썬 코딩 도장 학생입니다.\n"
     ]
    }
   ],
   "source": [
    "class Person:\n",
    "    def greeting(self):\n",
    "        print('안녕하세요.')\n",
    "\n",
    "class Student(Person):\n",
    "    def greeting(self):\n",
    "        print('안녕하세요. 저는 파이썬 코딩 도장 학생입니다.')  # '안녕하세요.'라는 문구가 중복되어야 한다.\n",
    "\n",
    "james = Student()\n",
    "james.greeting()"
   ]
  },
  {
   "cell_type": "code",
   "execution_count": 85,
   "metadata": {},
   "outputs": [
    {
     "name": "stdout",
     "output_type": "stream",
     "text": [
      "안녕하세요.\n",
      "저는 파이썬 코딩 도장 학생입니다.\n"
     ]
    }
   ],
   "source": [
    "# 기반 클래스의 메서드를 재활용하면 중복을 줄일 수 있다.\n",
    "# 메서드 오버라이딩은 원래 기능을 유지하면서 새로운 기능을 덧붙일 때 사용한다.\n",
    "class Person:\n",
    "    def greeting(self):\n",
    "        print('안녕하세요.')\n",
    "\n",
    "class Student(Person):\n",
    "    def greeting(self):\n",
    "        super().greeting()  # 기반 클래스의 메서드 호출하여 중복을 줄임\n",
    "        print('저는 파이썬 코딩 도장 학생입니다.')\n",
    "\n",
    "james = Student()\n",
    "james.greeting()"
   ]
  },
  {
   "cell_type": "markdown",
   "metadata": {},
   "source": [
    "### 36.5 다중 상속 사용하기 <hr>"
   ]
  },
  {
   "cell_type": "code",
   "execution_count": 87,
   "metadata": {},
   "outputs": [
    {
     "name": "stdout",
     "output_type": "stream",
     "text": [
      "안녕하세요.\n",
      "학점 관리\n",
      "공부하기\n"
     ]
    }
   ],
   "source": [
    "class Person:\n",
    "    def greeting(self):\n",
    "        print('안녕하세요.')\n",
    "\n",
    "class University:\n",
    "    def manage_credit(self):\n",
    "        print('학점 관리')\n",
    "\n",
    "class Undergraduate(Person, University):\n",
    "    def study(self):\n",
    "        print('공부하기')\n",
    "\n",
    "james = Undergraduate()\n",
    "james.greeting()\n",
    "james.manage_credit()\n",
    "james.study()"
   ]
  },
  {
   "cell_type": "markdown",
   "metadata": {},
   "source": [
    "#### 36.5.1 다이아몬드 상속"
   ]
  },
  {
   "cell_type": "code",
   "execution_count": 90,
   "metadata": {},
   "outputs": [
    {
     "name": "stdout",
     "output_type": "stream",
     "text": [
      "안녕하세요. B입니다.\n"
     ]
    }
   ],
   "source": [
    "class A:\n",
    "    def greeting(self):\n",
    "        print('안녕하세요. A입니다.')\n",
    "\n",
    "class B(A):\n",
    "    def greeting(self):\n",
    "        print('안녕하세요. B입니다.')\n",
    "\n",
    "class C(A):\n",
    "    def greeting(self):\n",
    "        print('안녕하세요. C입니다.')\n",
    "\n",
    "class D(B, C):\n",
    "    pass\n",
    "\n",
    "x = D()\n",
    "x.greeting()"
   ]
  },
  {
   "cell_type": "markdown",
   "metadata": {},
   "source": [
    "#### 36.5.2 메서드 탐색 순서 확인하기"
   ]
  },
  {
   "cell_type": "code",
   "execution_count": 91,
   "metadata": {},
   "outputs": [
    {
     "data": {
      "text/plain": [
       "[__main__.D, __main__.B, __main__.C, __main__.A, object]"
      ]
     },
     "execution_count": 91,
     "metadata": {},
     "output_type": "execute_result"
    }
   ],
   "source": [
    "# MRO에 따르면 D의 메서드 호출순서는 자기 자신D, 그 다음이 B이다.\n",
    "# 따라서 D로 인스턴스를 만들고 greeting을 호출하면 B의 greeting이 호출된다. (D는 greeting 메서드가 없으므로).\n",
    "# 파이썬은 다중 상속을 한다면 class D(B, C):의 클래스 목록중 왼쪽에서 오른쪽 순서로 메서드를 찾는다.\n",
    "D.mro()"
   ]
  },
  {
   "cell_type": "code",
   "execution_count": 92,
   "metadata": {},
   "outputs": [
    {
     "data": {
      "text/plain": [
       "[int, object]"
      ]
     },
     "execution_count": 92,
     "metadata": {},
     "output_type": "execute_result"
    }
   ],
   "source": [
    "# 참고\n",
    "# 파이썬에서 object는 모든 클래스의 조상이다. \n",
    "# 그래서 int MRO를 출력해보면 int 자기 자신과 object가 출력된다.\n",
    "\n",
    "int.mro()"
   ]
  },
  {
   "cell_type": "code",
   "execution_count": 93,
   "metadata": {},
   "outputs": [],
   "source": [
    "# 파이썬 3에서 모든 클래스는 object 클래스를 상속받으므로 기본적으로 object를 생략한다.\n",
    "class X:\n",
    "    pass"
   ]
  },
  {
   "cell_type": "code",
   "execution_count": 94,
   "metadata": {},
   "outputs": [],
   "source": [
    "# 위와 동일\n",
    "class X(object):\n",
    "    pass"
   ]
  },
  {
   "cell_type": "markdown",
   "metadata": {},
   "source": [
    "### 36.6 추상 클래스 사용하기 <hr>\n",
    "(1) 먼저 import로 abc 모듈을 가져온다. (abc는 abstract base class의 약자)\n",
    "\n",
    "(2) 클래스의 ()(괄호) 안에 metaclass = ABCMeta를 지정\n",
    "\n",
    "(3) 메서드를 만들 대 위에 @abstractmethod를 붙여서 추상 메서드로 지정"
   ]
  },
  {
   "cell_type": "code",
   "execution_count": 95,
   "metadata": {},
   "outputs": [
    {
     "ename": "TypeError",
     "evalue": "Can't instantiate abstract class Student with abstract method go_to_school",
     "output_type": "error",
     "traceback": [
      "\u001b[1;31m---------------------------------------------------------------------------\u001b[0m",
      "\u001b[1;31mTypeError\u001b[0m                                 Traceback (most recent call last)",
      "Cell \u001b[1;32mIn[95], line 16\u001b[0m\n\u001b[0;32m     13\u001b[0m     \u001b[38;5;28;01mdef\u001b[39;00m \u001b[38;5;21mstudy\u001b[39m(\u001b[38;5;28mself\u001b[39m):\n\u001b[0;32m     14\u001b[0m         \u001b[38;5;28mprint\u001b[39m(\u001b[38;5;124m'\u001b[39m\u001b[38;5;124m공부하기\u001b[39m\u001b[38;5;124m'\u001b[39m)\n\u001b[1;32m---> 16\u001b[0m jamse \u001b[38;5;241m=\u001b[39m \u001b[43mStudent\u001b[49m\u001b[43m(\u001b[49m\u001b[43m)\u001b[49m\n\u001b[0;32m     17\u001b[0m james\u001b[38;5;241m.\u001b[39mstudy()\n",
      "\u001b[1;31mTypeError\u001b[0m: Can't instantiate abstract class Student with abstract method go_to_school"
     ]
    }
   ],
   "source": [
    "# 추상 클래스 StudentBase에서는 추상 메서드로 Study와 go_to_school을 정의했다.\n",
    "# 하지만 StudentBase를 상속받은 Student에서는 study 메서드만 구현하고, go_to_school 메서드는 구현하지 않았으므로 에러가 발생한다.\n",
    "\n",
    "from abc import *\n",
    "\n",
    "class StudentBase(metaclass = ABCMeta):\n",
    "    @abstractmethod\n",
    "    def study(self):\n",
    "        pass\n",
    "    \n",
    "    @abstractmethod\n",
    "    def go_to_school(self):\n",
    "        pass\n",
    "\n",
    "class Student(StudentBase):\n",
    "    def study(self):\n",
    "        print('공부하기')\n",
    "\n",
    "jamse = Student()\n",
    "james.study()\n",
    "    "
   ]
  },
  {
   "cell_type": "code",
   "execution_count": 99,
   "metadata": {},
   "outputs": [
    {
     "name": "stdout",
     "output_type": "stream",
     "text": [
      "공부하기\n",
      "학교 가기\n"
     ]
    }
   ],
   "source": [
    "# 따라서 추상 클래스를 상속받았다면 @abstractmethod가 붙은 추상 메서드를 모두 구현해야 한다.\n",
    "# 추상 클래스는 파생 클래스가 반드시 구현해야하는 메서드를 정해줄 수 있다.\n",
    "# 참고로 추상 클래스의 추상 메서드를 모두 구현했는지 확인하는 시점은 파생 클래스가 인스턴스를 만들 때이다.\n",
    "# 따라서 james = Student()에서 확인한다 (구현하지 않았다면 TypeError 발생).\n",
    "from abc import *\n",
    "\n",
    "class StudentBase(metaclass = ABCMeta):\n",
    "    @abstractmethod\n",
    "    def study(self):\n",
    "        pass\n",
    "\n",
    "    @abstractmethod\n",
    "    def go_to_school(self):\n",
    "        pass\n",
    "\n",
    "class Student(StudentBase):\n",
    "    def study(self):\n",
    "        print('공부하기')\n",
    "    \n",
    "    def go_to_school(self):\n",
    "        print('학교 가기')\n",
    "\n",
    "james = Student()\n",
    "james.study()\n",
    "james.go_to_school()"
   ]
  },
  {
   "cell_type": "markdown",
   "metadata": {},
   "source": [
    "#### 36.6.1 추상 메서드를 빈 메서드로 만드는 이유"
   ]
  },
  {
   "cell_type": "code",
   "execution_count": 96,
   "metadata": {},
   "outputs": [
    {
     "ename": "TypeError",
     "evalue": "Can't instantiate abstract class StudentBase with abstract methods go_to_school, study",
     "output_type": "error",
     "traceback": [
      "\u001b[1;31m---------------------------------------------------------------------------\u001b[0m",
      "\u001b[1;31mTypeError\u001b[0m                                 Traceback (most recent call last)",
      "Cell \u001b[1;32mIn[96], line 2\u001b[0m\n\u001b[0;32m      1\u001b[0m \u001b[38;5;66;03m# 추상 클래스는 인스턴스로 만들 수가 없다.\u001b[39;00m\n\u001b[1;32m----> 2\u001b[0m james \u001b[38;5;241m=\u001b[39m \u001b[43mStudentBase\u001b[49m\u001b[43m(\u001b[49m\u001b[43m)\u001b[49m\n",
      "\u001b[1;31mTypeError\u001b[0m: Can't instantiate abstract class StudentBase with abstract methods go_to_school, study"
     ]
    }
   ],
   "source": [
    "# 추상 클래스는 인스턴스로 만들 수가 없다.\n",
    "# 그래서 지금까지 추상 메서드를 만들 때 pass만 넣어서 빈 메서드로 만든 것이다.\n",
    "# 왜냐하면 추상 클래스는 인스턴스를 만들 수 없으니 추상 메서드도 호출할 일이 없기 때문이다.\n",
    "# 정리하자면 추상 클래스는 인스턴스로 만들 때는 사용하지 않으며 오로지 상속에만 사용한다.\n",
    "# 그리고 파생 클래스에서 반드시 구현해야 할 메서드를 정해 줄 때 사용한다.\n",
    "james = StudentBase()"
   ]
  },
  {
   "cell_type": "markdown",
   "metadata": {},
   "source": [
    "### 36.8 연습문제 : 리스트에 기능 추가하기 <hr>"
   ]
  },
  {
   "cell_type": "code",
   "execution_count": 100,
   "metadata": {},
   "outputs": [
    {
     "data": {
      "text/plain": [
       "[100, 2, 3, 100, 2, 3, 100, 2, 3]"
      ]
     },
     "execution_count": 100,
     "metadata": {},
     "output_type": "execute_result"
    }
   ],
   "source": [
    "class AdvancedList(list):\n",
    "    def replace(self, old, new):\n",
    "        while old in self:\n",
    "            self[self.index(old)] = new\n",
    "\n",
    "x = AdvancedList([1, 2, 3, 1, 2, 3, 1, 2, 3])\n",
    "x.replace(1, 100)\n",
    "x"
   ]
  },
  {
   "cell_type": "markdown",
   "metadata": {},
   "source": [
    "### 36.9 심사문제 : 다중 상속 사용하기 <hr>"
   ]
  },
  {
   "cell_type": "code",
   "execution_count": 102,
   "metadata": {},
   "outputs": [
    {
     "name": "stdout",
     "output_type": "stream",
     "text": [
      "먹다\n",
      "파닥거리다\n",
      "날다\n",
      "True\n",
      "True\n"
     ]
    }
   ],
   "source": [
    "class Animal:\n",
    "    def eat(self):\n",
    "        print('먹다')\n",
    "\n",
    "class Wing:\n",
    "    def flap(self):\n",
    "        print('파닥거리다')\n",
    "\n",
    "class Bird(Animal, Wing):\n",
    "    def fly(self):\n",
    "        print('날다')\n",
    "\n",
    "b = Bird()\n",
    "b.eat()\n",
    "b.flap()\n",
    "b.fly()\n",
    "print(issubclass(Bird, Animal))\n",
    "print(issubclass(Bird, Wing))"
   ]
  }
 ],
 "metadata": {
  "kernelspec": {
   "display_name": "TEST",
   "language": "python",
   "name": "python3"
  },
  "language_info": {
   "codemirror_mode": {
    "name": "ipython",
    "version": 3
   },
   "file_extension": ".py",
   "mimetype": "text/x-python",
   "name": "python",
   "nbconvert_exporter": "python",
   "pygments_lexer": "ipython3",
   "version": "3.9.18"
  }
 },
 "nbformat": 4,
 "nbformat_minor": 2
}
