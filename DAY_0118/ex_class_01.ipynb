{
 "cells": [
  {
   "cell_type": "markdown",
   "metadata": {},
   "source": [
    "## 사용자 정의 클래스\n",
    "- 클래스 정의 : 밤하늘의 별을 저장하는 데이터\n",
    "- 클래스 이름 : Star\n",
    "- 클래스 속성 : 크기, 색상, 밝기\n",
    "- 클래스 기능 : 반짝거린다, 떨어진다 => 함수(function), 메서드(method) => 함수"
   ]
  },
  {
   "cell_type": "markdown",
   "metadata": {},
   "source": [
    "* 객체 생성 => 클래스에 정의된 속성 즉 변수와 함수들이 메모리 힙 영역에 생성\n",
    "* 생성 방법\n",
    "    * 클래스명(매개변수) 생성자 함수 / 메서드\n",
    "    * 클래스명(매개변수1) 생성자 함수 / 메서드\n",
    "    * 클래스명(매개변수1, 매개변수2, ......, 매개변수N)  생성자 함수 / 메서드"
   ]
  },
  {
   "cell_type": "code",
   "execution_count": 59,
   "metadata": {},
   "outputs": [],
   "source": [
    "class Star:\n",
    "    # 클래스 변수/속성/필드 => 해당 클래스 생성된 객체 즉 인스턴스가 공유하는 속성\n",
    "    timezone = '밤'\n",
    "    __privateValue = 7\n",
    "    # 최상위 부모 클래스 object로부터 상속받은 함수 즉 메서드\n",
    "    # 형태 def __XXX__()\n",
    "    # 나의 클래스 맞도록 수정 즉 리모델링해서 사용 => 오버라이드(override)\n",
    "    def __init__(self, size, color, brightness, name = '알 수 없음'):\n",
    "        print(f'__init__() : {size}, {color}, {brightness}, {name}')\n",
    "        # 힙 메모리 영역에 저장 => 속성 데이터의 주소 저장\n",
    "        self.__size = size\n",
    "        self.color = color\n",
    "        self.brightness = brightness\n",
    "        self.name = name\n",
    "\n",
    "    # 별 클래스의 기능 => 메서드\n",
    "    def drop(self):\n",
    "        print(f'{self.name} 별이 하늘에서 떨어집니다. 소원 빌어요~!')\n",
    "        print(f'{self.color} 별이 하늘에서 떨어집니다. 소원 빌어요~!')\n",
    "    \n",
    "    # 비공개 인스턴스 속성에 접근하기 위한 메서드 =-> getter/setter 메서드\n",
    "    # 비공개 인스턴스 속성 읽어 오는 메서드 get속성명() ==> 속성값\n",
    "    # 비공개 인스턴스 속성에 값 설정하는메서드 set속성명(새로운값)\n",
    "    def getSize(self):\n",
    "        return self.__size\n",
    "    \n",
    "    def setSize(self, size):\n",
    "        self.__size = size\n",
    "    \n",
    "    # 비공개 인스턴스 메서드 => 클래스 내부에서만 호출되는 메서드\n",
    "    def __inner(self):\n",
    "        print('나는 비공개 인스턴스 메서드')\n",
    "    \n",
    "    # 객체 즉 인스턴스 생성 없이 사용하는 메서드\n",
    "    @staticmethod\n",
    "    def add():\n",
    "        pass\n",
    "\n",
    "    @classmethod\n",
    "    def cc(cls):\n",
    "        pass"
   ]
  },
  {
   "cell_type": "code",
   "execution_count": 60,
   "metadata": {},
   "outputs": [],
   "source": [
    "# staticmethod의 전형적인 예\n",
    "class Love:\n",
    "    @staticmethod\n",
    "    def smile():\n",
    "        pass"
   ]
  },
  {
   "cell_type": "code",
   "execution_count": 61,
   "metadata": {},
   "outputs": [
    {
     "data": {
      "text/plain": [
       "<function __main__.Love.smile()>"
      ]
     },
     "execution_count": 61,
     "metadata": {},
     "output_type": "execute_result"
    }
   ],
   "source": [
    "Love.smile"
   ]
  },
  {
   "cell_type": "code",
   "execution_count": 62,
   "metadata": {},
   "outputs": [
    {
     "name": "stdout",
     "output_type": "stream",
     "text": [
      "__init__() : 5, dark_yellow, 10, 알 수 없음\n",
      "__init__() : 10, red, 20, 알 수 없음\n"
     ]
    }
   ],
   "source": [
    "myStar = Star(5, 'dark_yellow', 10)\n",
    "yourStar = Star(10, 'red', 20)"
   ]
  },
  {
   "cell_type": "markdown",
   "metadata": {},
   "source": [
    "- 객체의 속성 정보 읽기 => 객체변수명.속성명"
   ]
  },
  {
   "cell_type": "code",
   "execution_count": 63,
   "metadata": {},
   "outputs": [
    {
     "name": "stdout",
     "output_type": "stream",
     "text": [
      "dark_yellow 10\n"
     ]
    }
   ],
   "source": [
    "print(myStar.color, myStar.brightness)"
   ]
  },
  {
   "cell_type": "markdown",
   "metadata": {},
   "source": [
    "- 객체의 속성 정보 변경 => 객체변수명.속성명 = 새로운 값"
   ]
  },
  {
   "cell_type": "code",
   "execution_count": 64,
   "metadata": {},
   "outputs": [],
   "source": [
    "myStar.brightness = 7"
   ]
  },
  {
   "cell_type": "code",
   "execution_count": 65,
   "metadata": {},
   "outputs": [
    {
     "name": "stdout",
     "output_type": "stream",
     "text": [
      "dark_yellow 7 밤 밤\n",
      "red 20 밤 밤\n"
     ]
    }
   ],
   "source": [
    "# 인스턴스 속성에 직접 접근\n",
    "print(myStar.color, myStar.brightness, myStar.timezone, Star.timezone)\n",
    "print(yourStar.color, yourStar.brightness, yourStar.timezone, Star.timezone)"
   ]
  },
  {
   "cell_type": "code",
   "execution_count": 67,
   "metadata": {},
   "outputs": [
    {
     "name": "stdout",
     "output_type": "stream",
     "text": [
      "현재 비공개 속성값 읽기 :  5\n",
      "현재 비공개 속성값 읽기 :  100\n"
     ]
    }
   ],
   "source": [
    "# 인스턴스 속성에 간접 접근 ==> 메서드 제공 필수 getter / setter 메서드 => \n",
    "print('현재 비공개 속성값 읽기 : ', myStar.getSize())\n",
    "# 현재 비공개 속성값 변경\n",
    "myStar.setSize(100)\n",
    "print('현재 비공개 속성값 읽기 : ', myStar.getSize())"
   ]
  },
  {
   "cell_type": "code",
   "execution_count": null,
   "metadata": {},
   "outputs": [],
   "source": [
    "print(f'클래스명.__dict__ : {}')\n",
    "print(f'')\n",
    "print(f'')\n",
    "myStar."
   ]
  },
  {
   "cell_type": "markdown",
   "metadata": {},
   "source": [
    "- 객체의 메서드 실행 => 객체변수명.메서드명()"
   ]
  },
  {
   "cell_type": "code",
   "execution_count": 69,
   "metadata": {},
   "outputs": [
    {
     "name": "stdout",
     "output_type": "stream",
     "text": [
      "알 수 없음 별이 하늘에서 떨어집니다. 소원 빌어요~!\n",
      "dark_yellow 별이 하늘에서 떨어집니다. 소원 빌어요~!\n",
      "알 수 없음 별이 하늘에서 떨어집니다. 소원 빌어요~!\n",
      "red 별이 하늘에서 떨어집니다. 소원 빌어요~!\n"
     ]
    }
   ],
   "source": [
    "myStar.drop()\n",
    "yourStar.drop()"
   ]
  }
 ],
 "metadata": {
  "kernelspec": {
   "display_name": "TEST",
   "language": "python",
   "name": "python3"
  },
  "language_info": {
   "codemirror_mode": {
    "name": "ipython",
    "version": 3
   },
   "file_extension": ".py",
   "mimetype": "text/x-python",
   "name": "python",
   "nbconvert_exporter": "python",
   "pygments_lexer": "ipython3",
   "version": "3.9.18"
  }
 },
 "nbformat": 4,
 "nbformat_minor": 2
}
